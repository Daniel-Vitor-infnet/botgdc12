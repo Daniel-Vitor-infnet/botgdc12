{
  "nbformat": 4,
  "nbformat_minor": 0,
  "metadata": {
    "colab": {
      "provenance": [],
      "mount_file_id": "1CLq3iJ_snZ_SVackGCYK_EtYL22EWdre",
      "authorship_tag": "ABX9TyNnlRbVJA73eCU6eQEuBUkP",
      "include_colab_link": true
    },
    "kernelspec": {
      "name": "python3",
      "display_name": "Python 3"
    },
    "language_info": {
      "name": "python"
    }
  },
  "cells": [
    {
      "cell_type": "markdown",
      "metadata": {
        "id": "view-in-github",
        "colab_type": "text"
      },
      "source": [
        "<a href=\"https://colab.research.google.com/github/Daniel-Vitor-infnet/botgdc12/blob/main/Python_AT.ipynb\" target=\"_parent\"><img src=\"https://colab.research.google.com/assets/colab-badge.svg\" alt=\"Open In Colab\"/></a>"
      ]
    },
    {
      "cell_type": "markdown",
      "source": [
        "Obs: Banco de dados global"
      ],
      "metadata": {
        "id": "rhnCjt1wzjpF"
      }
    },
    {
      "cell_type": "code",
      "source": [
        "banco_de_dados_veiculos = []\n",
        "banco_de_dados_clientes = []"
      ],
      "metadata": {
        "id": "dXoT4m0WznbN"
      },
      "execution_count": 79,
      "outputs": []
    },
    {
      "cell_type": "markdown",
      "source": [
        "Apenas para testes e verificações"
      ],
      "metadata": {
        "id": "bcC2lMCIzrCy"
      }
    },
    {
      "cell_type": "code",
      "source": [
        "print(banco_de_dados_veiculos)\n",
        "print(banco_de_dados_clientes)"
      ],
      "metadata": {
        "id": "2LRZUK4J0G2t",
        "colab": {
          "base_uri": "https://localhost:8080/"
        },
        "outputId": "2eb59af8-8c55-4382-bcea-45d7a142e28a"
      },
      "execution_count": 98,
      "outputs": [
        {
          "output_type": "stream",
          "name": "stdout",
          "text": [
            "[{'placa': '131kgha', 'modelo': 'Corsa', 'categoria': 'luxo', 'disponibilidade': -1}]\n",
            "[{'nome': ['Daniel', 'Vitor'], 'cpf': '134.156.653.-94', 'email': 'danielmadeira2010@gmail.com', 'veículo_locado': None}]\n"
          ]
        }
      ]
    },
    {
      "cell_type": "markdown",
      "source": [
        "1.Crie um diagrama que descreva a estrutura do sistema, descrevendo a estrutura das entidades VEÍCULO e CLIENTE, bem como a correlação entre elas."
      ],
      "metadata": {
        "id": "rbISJbWVucUF"
      }
    },
    {
      "cell_type": "markdown",
      "source": [
        "Obs: Pedi pro gpt para fazer os potinhos perdi a paciência de ajustar todos. o Código precisa ser executado para exibi a imagem"
      ],
      "metadata": {
        "id": "vwCYs7X-uy77"
      }
    },
    {
      "cell_type": "code",
      "source": [
        "import numpy as np\n",
        "import cv2\n",
        "from google.colab.patches import cv2_imshow  # Importando cv2_imshow corretamente\n",
        "\n",
        "img = cv2.imread(\"/content/Diagrama.png\")\n",
        "cv2_imshow(img)  # Usando cv2_imshow para exibir a imagem\n"
      ],
      "metadata": {
        "id": "WYG2tJ2nugys",
        "colab": {
          "base_uri": "https://localhost:8080/",
          "height": 776
        },
        "outputId": "e86aaa21-25af-4468-faf2-2c25cb5fb9e7"
      },
      "execution_count": 6,
      "outputs": [
        {
          "output_type": "display_data",
          "data": {
            "text/plain": [
              "<PIL.Image.Image image mode=RGB size=683x759>"
            ],
            "image/png": "[encoded data removed]"
          },
          "metadata": {}
        }
      ]
    },
    {
      "cell_type": "markdown",
      "source": [
        "2.Crie uma função que realize o cadastro do veículo, recebendo com passagem uma lista com o banco de dados dos veículos e retorne essa mesma lista com o novo valor de registro atualizado. O campo de disponibilidade deve ter valor -1 para quando o veículo estiver disponível e o índice do cliente que o locou, cado esteja indisponível."
      ],
      "metadata": {
        "id": "xGOfWOIqxpBM"
      }
    },
    {
      "cell_type": "code",
      "source": [
        "def cadastrar_veiculo(veiculos):\n",
        "    # Solicitar as informações do novo veículo\n",
        "    placa = input(\"Placa do veículo: \")\n",
        "    modelo = input(\"Modelo do veículo: \")\n",
        "    categoria = input(\"Categoria do veículo (básico, intermediário, luxo): \").lower();\n",
        "\n",
        "\n",
        "    # Adicionar o novo veículo à lista\n",
        "    novo_veiculo = {\n",
        "        'placa': placa,\n",
        "        'modelo': modelo,\n",
        "        'categoria': categoria,\n",
        "        'disponibilidade': -1  # -1 indica que o veículo está disponível\n",
        "    }\n",
        "    veiculos.append(novo_veiculo)\n",
        "\n",
        "    return veiculos\n",
        "\n",
        "# Para executar a função separadamente apague o \"#\" abaixo:\n",
        "\n",
        "cadastrar_veiculo(banco_de_dados_veiculos)"
      ],
      "metadata": {
        "id": "l3X_AFuLxqP0",
        "colab": {
          "base_uri": "https://localhost:8080/"
        },
        "outputId": "480b004e-f272-46df-a9a9-173b31eb2a7a"
      },
      "execution_count": 80,
      "outputs": [
        {
          "name": "stdout",
          "output_type": "stream",
          "text": [
            "Placa do veículo: 131kgha\n",
            "Modelo do veículo: Corsa\n",
            "Categoria do veículo (básico, intermediário, luxo): luxo\n"
          ]
        },
        {
          "output_type": "execute_result",
          "data": {
            "text/plain": [
              "[{'placa': '131kgha',\n",
              "  'modelo': 'Corsa',\n",
              "  'categoria': 'luxo',\n",
              "  'disponibilidade': -1}]"
            ]
          },
          "metadata": {},
          "execution_count": 80
        }
      ]
    },
    {
      "cell_type": "markdown",
      "source": [
        "3.Crie uma função que realize o cadastro do cliente, recebendo como passagem uma lista com o banco de dados dos clientes e retorne essa mesma lista com o novo valor de registro atualizado. O nome do cliente deve conter apenas Nome e Sobrenome, devendo ser armazenado em uma lista com duas posições."
      ],
      "metadata": {
        "id": "6t9KErZj5oLl"
      }
    },
    {
      "cell_type": "code",
      "source": [
        "def cadastrar_cliente(clientes):\n",
        "\n",
        "    # Validar se o nome completo possui apenas Nome e Sobrenome\n",
        "    while True:\n",
        "        nome_completo = input(\"Nome completo do cliente (Nome Sobrenome): \").split(' ')\n",
        "        if len(nome_completo) != 2:\n",
        "            print(\"Você deve inserir apenas o Nome e o Sobrenome.\")\n",
        "        else:\n",
        "            break\n",
        "\n",
        "    cpf = input(\"CPF do cliente: \")\n",
        "    email = input(\"Email do cliente: \")\n",
        "\n",
        "    # Adicionar o novo cliente à lista\n",
        "    novo_cliente = {\n",
        "        'nome': nome_completo,\n",
        "        'cpf': cpf,\n",
        "        'email': email,\n",
        "        'veículo_locado': None\n",
        "\n",
        "    }\n",
        "    clientes.append(novo_cliente)\n",
        "\n",
        "    return clientes\n",
        "\n",
        "# Para executar a função separadamente apague o \"#\" abaixo:\n",
        "\n",
        "cadastrar_cliente(banco_de_dados_clientes)"
      ],
      "metadata": {
        "colab": {
          "base_uri": "https://localhost:8080/"
        },
        "id": "6ASx1j7L_Sx8",
        "outputId": "c89f3552-6f67-4214-9230-94e32dcb7090"
      },
      "execution_count": 81,
      "outputs": [
        {
          "name": "stdout",
          "output_type": "stream",
          "text": [
            "Nome completo do cliente (Nome Sobrenome): Daniel Vitor\n",
            "CPF do cliente: 134.156.653.-94\n",
            "Email do cliente: danielmadeira2010@gmail.com\n"
          ]
        },
        {
          "output_type": "execute_result",
          "data": {
            "text/plain": [
              "[{'nome': ['Daniel', 'Vitor'],\n",
              "  'cpf': '134.156.653.-94',\n",
              "  'email': 'danielmadeira2010@gmail.com',\n",
              "  'veículo_locado': None}]"
            ]
          },
          "metadata": {},
          "execution_count": 81
        }
      ]
    },
    {
      "cell_type": "markdown",
      "source": [
        "4.Crie uma função que realize a busca de um veículo a partir da sua placa. Ela deve receber como passagem a lista contendo o banco de dados de veículos e a placa, e retorne uma lista contendo o índice do veículo desejado."
      ],
      "metadata": {
        "id": "8rCIBnN0Bae9"
      }
    },
    {
      "cell_type": "code",
      "source": [
        "def buscar_veiculo_por_placa(banco_de_dados_veiculos, placa):\n",
        "    for indice, veiculo in enumerate(banco_de_dados_veiculos):\n",
        "        if veiculo[\"placa\"] == placa:\n",
        "            return indice\n",
        "    return None\n",
        "\n",
        "\n",
        "#Exemplo/Testes\n",
        "# Solicitar informações do cliente\n",
        "\n",
        "#placa = input(\"informe a placa que deseja buscar\")\n",
        "\n",
        "#buscar_veiculo_por_placa(banco_de_dados_veiculos, placa)\n"
      ],
      "metadata": {
        "id": "Ah8YfJLGBanT"
      },
      "execution_count": 13,
      "outputs": []
    },
    {
      "cell_type": "markdown",
      "source": [
        "5.Crie uma função que realize a busca por veículos, tendo como base o estado da locação. Ela deve receber como parâmetros de entrada a lista contendo o banco de dados dos veículos e um parâmetro booleano, que selecionará se a lista retornada será dos veículos disponíveis ou indisponíveis. O valor padrão para esse parâmetro deve ser disponivel=True. O retorno da função deve uma lista contendo os índices de todos os veículos selecionados."
      ],
      "metadata": {
        "id": "FJ7_jlm7CgEe"
      }
    },
    {
      "cell_type": "code",
      "source": [
        "def buscar_veiculos_por_estado_locacao(veiculos, disponivel=True):\n",
        "    indices_selecionados = []\n",
        "\n",
        "    # Buscar os veículos com base no estado de disponibilidade\n",
        "    for indice, veiculo in enumerate(veiculos):\n",
        "        if disponivel and veiculo['disponibilidade'] == -1:\n",
        "            indices_selecionados.append(indice)\n",
        "        elif not disponivel and veiculo['disponibilidade'] != -1:\n",
        "            indices_selecionados.append(indice)\n",
        "\n",
        "    return indices_selecionados\n",
        "\n",
        "\n",
        "\n",
        "# Para executar a função separadamente apague o \"#\" abaixo:\n",
        "# Exemplo buscar veículos disponíveis:\n",
        "\n",
        "# indices_disponiveis = buscar_veiculos_por_estado_locacao(banco_de_dados_veiculos)\n",
        "# print(\"Veículos disponíveis:\")\n",
        "# for indice in indices_disponiveis:\n",
        "#     print(banco_de_dados_veiculos[indice])\n",
        "\n",
        "# Exemplo buscar veículos indisponíveis:\n",
        "\n",
        "# indices_indisponiveis = buscar_veiculos_por_estado_locacao(banco_de_dados_veiculos, disponivel=False)\n",
        "# print(\"\\nVeículos indisponíveis:\")\n",
        "# for indice in indices_indisponiveis:\n",
        "#     print(banco_de_dados_veiculos[indice])\n"
      ],
      "metadata": {
        "id": "5fEuNcV1Ch8I"
      },
      "execution_count": 20,
      "outputs": []
    },
    {
      "cell_type": "markdown",
      "source": [
        "6.Crie uma função que receba como parâmetros a lista contendo o banco de dados dos veículos e uma lista contendo índices de veículo e realize a impressão desses dados."
      ],
      "metadata": {
        "id": "5FA31TFFJSPL"
      }
    },
    {
      "cell_type": "code",
      "source": [
        "def imprimir_veiculos(veiculos, indices_veiculos):\n",
        "    for indice in indices_veiculos:\n",
        "        print(veiculos[int(indice)])\n",
        "\n",
        "\n",
        "#Exemplo de uso\n",
        "# Lista de índices de veículos que queremos imprimir\n",
        "#indices_para_imprimir = input(\"Digite os índices dos veículos que deseja imprimir: \").split(\", \")\n",
        "\n",
        "#imprimir_veiculos(banco_de_dados_veiculos, indices_para_imprimir)\n"
      ],
      "metadata": {
        "id": "lLYNIel1LXee"
      },
      "execution_count": 21,
      "outputs": []
    },
    {
      "cell_type": "markdown",
      "source": [
        "7.Crie uma função que faça a busca por cliente a partir do seu o nome ou o sobrenome. Deve receber como parâmetros a lista contendo o banco de dados dos clientes, o nome que deve ser localizado e um parâmetro booleano que informe se a busca deve ser realizada pelo nome ou sobrenome. O retorno deve ser uma lista contendo todos os índices onde houveram ocorrência do nome/sobrenome desejados."
      ],
      "metadata": {
        "id": "hctnGKsJGV2r"
      }
    },
    {
      "cell_type": "code",
      "source": [
        "def buscar_cliente_por_nome(clientes, nome_busca, buscar_por_nome=True):\n",
        "    indices_encontrados = []\n",
        "\n",
        "    for indice, cliente in enumerate(clientes):\n",
        "        if buscar_por_nome and nome_busca.lower() == cliente['nome'][0].lower():\n",
        "            indices_encontrados.append(indice)\n",
        "        elif not buscar_por_nome and nome_busca.lower() == cliente['nome'][1].lower():\n",
        "            indices_encontrados.append(indice)\n",
        "\n",
        "    return indices_encontrados\n",
        "\n",
        "\n",
        "# Para executar a função separadamente apague os \"#\" abaixo:\n",
        "#Exemplo de uso\n",
        "\n",
        "# nome_busca = input(\"Digite o nome ou sobrenome a ser buscado: \")\n",
        "# opcao_busca = input('Deseja buscar por \"Nome\" ou \"Sobrenome\"? ').lower()\n",
        "\n",
        "# if opcao_busca == \"nome\":\n",
        "#   buscar_cliente_por_nome(banco_de_dados_clientes, nome_busca)\n",
        "# elif opcao_busca == \"sobrenome\":\n",
        "#   buscar_cliente_por_nome(banco_de_dados_clientes, nome_busca, False)\n",
        "# else:\n",
        "#   print(\"opção inválida\")"
      ],
      "metadata": {
        "id": "WqS0qtEcGceY"
      },
      "execution_count": 62,
      "outputs": []
    },
    {
      "cell_type": "markdown",
      "source": [
        "8.Crie uma função que imprima os dados de clientes. Ela receberá como parâmetro a lista contendo o banco de dados do cliente e uma lista contendo os índices de clientes e imprimirá os dados dos clientes listados."
      ],
      "metadata": {
        "id": "dCCK9bm1LSGP"
      }
    },
    {
      "cell_type": "code",
      "source": [
        "def imprimir_dados_clientes(clientes, indices):\n",
        "\n",
        "    # Verificar se a lista de índices está vazia\n",
        "    if indices:\n",
        "        print(\"Nenhum cliente selecionado.\")\n",
        "        return None\n",
        "\n",
        "    for indice in indices:\n",
        "        nome_completo = f'{clientes[indice][\"nome\"][0]} {clientes[indice][\"nome\"][1]}'\n",
        "        print(\n",
        "            f\"\"\"\n",
        "        ********************* REGISTRO {indice} **************************\n",
        "\n",
        "        Nome Completo :      {nome_completo}\n",
        "        CPF:                 {clientes[indice][\"cpf\"]}\n",
        "        E-mail:              {clientes[indice][\"email\"]}\n",
        "        Veiculo Alugado:     {clientes[indice][\"veículo_locado\"]}\n",
        "\n",
        "       *******************************************************************\n",
        "       \"\"\")\n",
        "\n",
        "    return\n",
        "\n",
        "# Para executar a função separadamente apague os \"#\" abaixo:\n",
        "#Exemplo de uso\n",
        "\n",
        "#indices = [0,1]\n",
        "#imprimir_dados_clientes(banco_de_dados_clientes, indeces)"
      ],
      "metadata": {
        "id": "7p6-2VeEPiTH"
      },
      "execution_count": 78,
      "outputs": []
    },
    {
      "cell_type": "markdown",
      "source": [
        "9.Crie uma função que realize o aluguel do veículo. Ela deve receber como parâmetros as listas contendo os bancos de dados de veículos e clientes e retorná-los atualizados. A função deve solicitar a placa do veículo e avaliar se ele está disponível para locação. Caso não esteja, deve oferecer ao usuário a opção de inserir uma nova placa ou sair da opção. Caso o veículo esteja disponível, ela deve exibir os dados do veículo e pedir que o usuário confirme que está correto. Caso negativo, ofereça a opção de inserir uma nova placa ou sair. Se estiver correto, solicite o ID do cliente, faça a mesma avaliação e ofereça as mesmas opções apresentadas no caso dos veículos. Se tudo estiver correto, os campos de ‘disponibilidade do veículo’ e de ‘veículo locado’ devem ser atualizados nas respectivas bases de dados e um sumário da operação exibido na tela. A função deve retornar a duas listas atualizadas."
      ],
      "metadata": {
        "id": "SoYkKfkeTSDd"
      }
    },
    {
      "cell_type": "markdown",
      "source": [
        "Obs: O campo \"veículo locado\" não foi pedido em nenhum exercício, então adicionei na questão 3 o campo. por padrão vai ser none e quando estiver aluga vai ser a placa do veículo no lugar."
      ],
      "metadata": {
        "id": "i4zCRKhisI4J"
      }
    },
    {
      "cell_type": "code",
      "source": [
        "def realizar_aluguel(veiculos, clientes):\n",
        "    while True:\n",
        "        placa = input(\"Insira a placa do veículo para locação: \")\n",
        "        veiculo_encontrado = None\n",
        "        for veiculo in veiculos:\n",
        "            if veiculo['placa'] == placa:\n",
        "                veiculo_encontrado = veiculo\n",
        "                break\n",
        "\n",
        "        if veiculo_encontrado is not None:\n",
        "            return print(\"Veículo não encontrado.\")\n",
        "\n",
        "        elif veiculo_encontrado['disponibilidade'] != -1:\n",
        "            print(\"Veículo já está locado.\")\n",
        "            if input(\"Deseja tentar outro modelo? (S/N) \").upper() == 'S':\n",
        "                continue\n",
        "            else:\n",
        "                return print((\"Comando finalizado\"))\n",
        "        else:\n",
        "            print(\n",
        "            f\"\"\"\n",
        "            **************************Carro************************************\n",
        "\n",
        "            Placa :        {veiculo_encontrado[\"placa\"]}\n",
        "            Modelo:        {veiculo_encontrado[\"modelo\"]}\n",
        "            Categoria:     {veiculo_encontrado[\"categoria\"]}\n",
        "\n",
        "            *******************************************************************\n",
        "            \"\"\")\n",
        "            if input(f'O veículo está correto? (S/N) ').upper() != 'S':\n",
        "                if input(\"Deseja inserir uma nova placa? (S/N) \").upper() == 'N':\n",
        "                    return print((\"Comando finalizado\"))\n",
        "                else:\n",
        "                    continue\n",
        "\n",
        "\n",
        "        while True:\n",
        "            id_cliente = input(\"Insira o ID/CPF do cliente para locação: \")\n",
        "            cliente_encontrado = None\n",
        "            for cliente in clientes:\n",
        "                if str(cliente['cpf']) == id_cliente:  # Vou usar o cof de id\n",
        "                    cliente_encontrado = cliente\n",
        "                    break\n",
        "\n",
        "            if cliente_encontrado is not None:\n",
        "                return print(\"Cliente não encontrado.\")\n",
        "            else:\n",
        "                nome_completo = f'{cliente_encontrado[\"nome\"][0]} {cliente_encontrado[\"nome\"][1]}'\n",
        "                print(\n",
        "                f\"\"\"\n",
        "                **************************** REGISTRO ******************************\n",
        "\n",
        "                Nome Completo :      {nome_completo}\n",
        "                CPF:                 {cliente_encontrado[\"cpf\"]}\n",
        "                E-mail:              {cliente_encontrado[\"email\"]}\n",
        "\n",
        "\n",
        "                *******************************************************************\n",
        "                \"\"\")\n",
        "\n",
        "                if input(\"Os dados estão corretos? (S/N) \").upper() != 'S':\n",
        "                    if input(\"Deseja inserir um novo ID de cliente? (S/N) \").upper() != 'S':\n",
        "                        return print(\"Comando cancelado\")\n",
        "                    else:\n",
        "                        continue\n",
        "\n",
        "                # Atualizando os dados de locação\n",
        "                veiculo_encontrado['disponibilidade'] = cliente_encontrado[\"cpf\"] #Coloquei o cpf para indicar que está alugado e quem alugou\n",
        "                cliente_encontrado[\"veículo_locado\"] = veiculo_encontrado[\"placa\"]\n",
        "                print(\"Aluguel realizado com sucesso!\")\n",
        "                print(f\"Veículo {veiculo_encontrado['placa']} locado para {nome_completo}.\")\n",
        "                return veiculos, clientes\n",
        "\n",
        "\n",
        "\n",
        "# Para executar a função separadamente apague os \"#\" abaixo:\n",
        "#Exemplo de uso\n",
        "\n",
        "realizar_aluguel(banco_de_dados_veiculos, banco_de_dados_clientes)"
      ],
      "metadata": {
        "id": "H_YUPCw9e81A"
      },
      "execution_count": null,
      "outputs": []
    },
    {
      "cell_type": "markdown",
      "source": [
        "10.Crie uma função que faça a devolução do veículo, contabilizando o valor total da locação. Deve receber como parâmetros as listas de veículos e de clientes e retornar essas listas atualizadas. Deverá ser solicitado o nome ou o código do cliente. O processo de devolução deve desvincular o veículo do usuário, retornando-o para o estado ’disponível’ e remover o veículo da base do cliente. A contabilização deve ser feita informando o número de diárias utilizadas, relacionando-as ao valor da locação, sendo que o valor de é de R$150,00, R$250,00 e R$400,00 para as categorias básica, intermediária e luxo, respectivamente."
      ],
      "metadata": {
        "id": "uF2wIxjKlQMc"
      }
    },
    {
      "cell_type": "code",
      "source": [
        "def devolucao_de_veiculos(veiculos, clientes):\n",
        "    id = input(\"Qual seu cpf/id: \")\n",
        "    veiculo_alugado = None\n",
        "    cliente_dados = None\n",
        "\n",
        "    # Busca veículo\n",
        "    for veiculo in veiculos:\n",
        "        if veiculo[\"disponibilidade\"] == id:\n",
        "            veiculo_alugado = veiculo\n",
        "            break\n",
        "\n",
        "    # Busca cliente\n",
        "    for cliente in clientes:\n",
        "        if cliente[\"cpf\"] == id:\n",
        "            cliente_dados = cliente\n",
        "            break\n",
        "\n",
        "\n",
        "    if cliente_dados is not None:\n",
        "        return print(f'O Cpf \"{id}\" não esta em nosso banco de dados')\n",
        "    elif veiculo_alugado is not None:\n",
        "        return print(f'Você não tem veículo alugado em seu cpf \"{id}\"')\n",
        "\n",
        "\n",
        "    categoria = veiculo_alugado[\"categoria\"]\n",
        "    diaria = int(input(\"Com quantos dias ficou com o veículo: \"))\n",
        "    valor_aluguel = None\n",
        "\n",
        "    if categoria == \"básico\":\n",
        "        valor_aluguel = 150.00 * diaria\n",
        "    elif categoria == \"intermediária\":\n",
        "        valor_aluguel = 250.00 * diaria\n",
        "    elif categoria == \"luxo\":\n",
        "        valor_aluguel = 400.00 * diaria\n",
        "\n",
        "    cliente_dados[\"veículo_locado\"] = None\n",
        "    veiculo_alugado[\"disponibilidade\"] = -1\n",
        "    valor_aluguel_for = \"{:.2f}\".format(valor_aluguel).replace('.', ',')\n",
        "\n",
        "    return print(f'Você deve pagar R${valor_aluguel_for} pelo veículo alugado')\n",
        "\n",
        "# Para executar a função separadamente apague os \"#\" abaixo:\n",
        "#Exemplo de uso\n",
        "\n",
        "#devolucao_de_veiculos(banco_de_dados_veiculos, banco_de_dados_clientes)"
      ],
      "metadata": {
        "id": "r6npH4hW6C79"
      },
      "execution_count": 102,
      "outputs": []
    },
    {
      "cell_type": "markdown",
      "source": [
        "11.Crie uma função que ofereça ao usuário o menu principal do sistema, sendo elas: Gerenciamento de Frota; Gerenciamento de Clientes; Gerenciamento de Locação; Finalizar."
      ],
      "metadata": {
        "id": "h1YybOZDGicP"
      }
    },
    {
      "cell_type": "code",
      "source": [
        "def menu_inicial_escolha():\n",
        "    print('***** Menu de principal *****\\\n",
        "  \\n 1: Gerenciamento de Frota\\\n",
        "  \\n 2: Gerenciamento de Clientes\\\n",
        "  \\n 3: Gerenciamento de Locação\\\n",
        "  \\n 4: Finalizar\\\n",
        "  \\n *****************************')\n",
        "\n",
        "    while True:\n",
        "        resposta = int(input(\"Escolha o número equivalente a opção desejada: \"))\n",
        "\n",
        "        if resposta < 1 or resposta > 4:\n",
        "            print(\"Opção inválida, tente novamente\")\n",
        "        else:\n",
        "            return resposta\n",
        "\n",
        "# Para executar a função separadamente apague os \"#\" abaixo:\n",
        "#Exemplo de uso\n",
        "\n",
        "#print(menu_inicial_escolha())"
      ],
      "metadata": {
        "id": "xCkvvaHvGird"
      },
      "execution_count": null,
      "outputs": []
    },
    {
      "cell_type": "markdown",
      "source": [
        "12.Crie uma função que permita o acesso às funções de Gestão de frota, sendo elas: Cadastro de Veículo; Busca por Placa, Busca por Disponibilidade; Voltar."
      ],
      "metadata": {
        "id": "sziUlyhbHTWA"
      }
    },
    {
      "cell_type": "code",
      "source": [
        "def Gestão_de_frota(veiculos):\n",
        "    while True:\n",
        "        print('******* Menu de principal ******\\\n",
        "              \\n 1: Cadastro de Veículo\\\n",
        "              \\n 2: Busca por Placa\\\n",
        "              \\n 3: Busca por Disponibilidade\\\n",
        "              \\n 4: Voltar\\\n",
        "              \\n *****************************')\n",
        "\n",
        "        opcao = input(\"Escolha uma opção: \")\n",
        "\n",
        "        if opcao == '1':\n",
        "            veiculos = cadastrar_veiculo(veiculos)\n",
        "        elif opcao == '2':\n",
        "            placa = input(\"Informe qual a placa do veículo: \")\n",
        "            indice_veiculo = buscar_veiculo_por_placa(\n",
        "                veiculos, placa)\n",
        "            if indice_veiculo is not None:\n",
        "                print(\"Veículo encontrado no índice:\", indice_veiculo)\n",
        "            else:\n",
        "                print(\"Não foi possível encontrar o veículo com a placa informada.\")\n",
        "        elif opcao == '3':\n",
        "            veiculos_encontratos = 0  # Uma verificação simples.\n",
        "            # Mostra todos veículos alugados\n",
        "            for veiculo in veiculos:\n",
        "                if veiculo[\"disponibilidade\"] == -1:\n",
        "                    veiculos_encontratos = \"Encontrato\" # Uma verificação simples.\n",
        "                    print(\n",
        "                    f\"\"\"\n",
        "                   **************************Carro************************************\n",
        "\n",
        "                   Placa :           {veiculo[\"placa\"]}\n",
        "                   Modelo:           {veiculo[\"modelo\"]}\n",
        "                   Categoria:        {veiculo[\"categoria\"]}\n",
        "                   Alugado Para:     {veiculo[\"disponibilidade\"]}\n",
        "\n",
        "                   *******************************************************************\n",
        "                   \"\"\")\n",
        "            if veiculos_encontratos == 0:\n",
        "                return print(\"Nenhum veículo alugado\")\n",
        "        elif opcao == '4':\n",
        "            print(\"Voltando ao menu principal...\")\n",
        "            break\n",
        "        else:\n",
        "            print(\"Opção inválida.\")"
      ],
      "metadata": {
        "id": "ohAY2Jm6HVaJ"
      },
      "execution_count": null,
      "outputs": []
    },
    {
      "cell_type": "markdown",
      "source": [
        "13.Crie uma função que permita ao usuário fazer a busca de um veículo por placa e imprima na tela os dados do veículo."
      ],
      "metadata": {
        "id": "kgY61J2OXbKI"
      }
    },
    {
      "cell_type": "code",
      "source": [
        "def buscar_veiculo_por_placa_dados (veiculos):\n",
        "\n",
        "  placa = input(\"Qual placa deseja buscar: \")\n",
        "  veiculo_encontrado = 0\n",
        "\n",
        "  for veiculo in veiculos:\n",
        "    if veiculo[\"placa\"] == placa:\n",
        "       veiculos_encontrados = \"Encontrato\"\n",
        "       print(\n",
        "       f\"\"\"\n",
        "        **************************Carro************************************\n",
        "\n",
        "        Placa :           {veiculo[\"placa\"]}\n",
        "        Modelo:           {veiculo[\"modelo\"]}\n",
        "        Categoria:        {veiculo[\"categoria\"]}\n",
        "        disponibilidade:  {veiculo[\"disponibilidade\"]}\n",
        "\n",
        "        *******************************************************************\n",
        "        \"\"\")\n",
        "    if veiculos_encontrados != 0:\n",
        "      return\n",
        "    else:\n",
        "      return print(\"Véiculo não encontrato\")"
      ],
      "metadata": {
        "id": "SwvoJPH9XdKy"
      },
      "execution_count": 7,
      "outputs": []
    },
    {
      "cell_type": "markdown",
      "source": [
        "14.Crie uma função que permita ao usuário fazer a busca de veículos por sua disponibilidade, oferecendo a opção de escolha entre disponível ou indisponível e imprime na tela o resultado da busca."
      ],
      "metadata": {
        "id": "q0nRN2gdcYC3"
      }
    },
    {
      "cell_type": "code",
      "source": [
        "def buscar_dispo_indispo(veiculos):\n",
        "    tipo = input('Qual tipo quer buscar \"disponível\" ou \"indisponível\"? ').lower();\n",
        "    veiculos_encontrados = []\n",
        "\n",
        "    if tipo not in ['disponível', 'indisponível']:\n",
        "        print(\"Resposta inválida. Por favor, escolha 'disponível' ou 'indisponível'.\");\n",
        "        return\n",
        "\n",
        "    for veiculo in veiculos:\n",
        "        if tipo == 'disponível' and veiculo[\"disponibilidade\"] == -1:\n",
        "            veiculos_encontrados.append(veiculo)\n",
        "        elif tipo == 'indisponível' and veiculo[\"disponibilidade\"] != -1:\n",
        "            veiculos_encontrados.append(veiculo)\n",
        "\n",
        "    if not veiculos_encontrados:\n",
        "        print(\"Nenhum veículo\", tipo, \"encontrado.\")\n",
        "    else:\n",
        "        print(\"************************** Veículos\", tipo, \"**************************\");\n",
        "        for veiculo in veiculos_encontrados:\n",
        "            print(f\"\"\"\n",
        "            Placa:               {veiculo[\"placa\"]}\n",
        "            Modelo:              {veiculo[\"modelo\"]}\n",
        "            Categoria:           {veiculo[\"categoria\"]}\n",
        "            Disponibilidade:     {'Disponível' if veiculo['disponibilidade'] == -1 else 'Indisponível'}\n",
        "            \"\"\")\n",
        "        print(\"*******************************************************************\");"
      ],
      "metadata": {
        "id": "X61JCM0Ik3Uq"
      },
      "execution_count": null,
      "outputs": []
    },
    {
      "cell_type": "markdown",
      "source": [
        "15.Crie uma função que permita o acesso às funções de Gerenciamento de Clientes, sendo elas: Cadastro de Cliente, Busca de Clientes; Voltar."
      ],
      "metadata": {
        "id": "qt7PMYDllBzr"
      }
    },
    {
      "cell_type": "code",
      "source": [
        "def Gestão_de_frota(veiculos):\n",
        "    while True:\n",
        "        print('******* Menu de principal ******\\\n",
        "              \\n 1: Cadastro de Cliente\\\n",
        "              \\n 2: Busca de Clientes\\\n",
        "              \\n 3: Voltar\\\n",
        "              \\n *****************************')\n",
        "\n",
        "        opcao = input(\"Escolha uma opção: \")\n",
        "\n",
        "        if opcao == '1':\n",
        "            cadastrar_cliente()\n",
        "        elif opcao == '2':\n",
        "            placa = input(\"Informe qual a placa do veículo: \")\n",
        "            indice_veiculo = buscar_veiculo_por_placa(veiculos, placa)\n",
        "            if indice_veiculo is not None:\n",
        "                print(\"Veículo encontrado no índice:\", indice_veiculo)\n",
        "            else:\n",
        "                print(\"Não foi possível encontrar o veículo com a placa informada.\")\n",
        "        elif opcao == '3':\n",
        "            print(\"Voltando ao menu principal...\")\n",
        "            break\n",
        "        else:\n",
        "            print(\"Opção inválida.\")"
      ],
      "metadata": {
        "id": "R3auKjFplDxf"
      },
      "execution_count": 9,
      "outputs": []
    },
    {
      "cell_type": "markdown",
      "source": [
        "16.Crie uma função que permita ao usuário fazer a busca por cliente, oferecendo a opção de nome ou sobrenome, e imprima o resultado na tela."
      ],
      "metadata": {
        "id": "dstpjConpl0G"
      }
    },
    {
      "cell_type": "code",
      "source": [
        "\n",
        "\n",
        "def Gestão_de_clientes(banco_de_dados_clientes):\n",
        "    while True:\n",
        "        print('******* Menu de principal ******\\\n",
        "              \\n 1: Cadastro de Cliente\\\n",
        "              \\n 2: Busca de Clientes\\\n",
        "              \\n 3: Voltar\\\n",
        "              \\n *****************************')\n",
        "\n",
        "        opcao = input(\"Escolha uma opção: \")\n",
        "\n",
        "        if opcao == '1':\n",
        "            cadastrar_cliente(banco_de_dados_clientes)\n",
        "        elif opcao == '2':\n",
        "            nome_a_buscar = input(\n",
        "                \"Digite o nome ou sobrenome do cliente para buscar: \")\n",
        "            tipo_busca = input(\n",
        "                \"Deseja buscar pelo (1) nome ou (2) sobrenome? \")\n",
        "            buscar_por_nome = tipo_busca == '1'\n",
        "            indices_encontrados = buscar_cliente_por_nome(\n",
        "                banco_de_dados_clientes, nome_a_buscar, buscar_por_nome)\n",
        "            if indices_encontrados:\n",
        "                print(\n",
        "                    f\"Clientes encontrados nos índices: {indices_encontrados}\")\n",
        "                for indice in indices_encontrados:\n",
        "                    cliente = banco_de_dados_clientes[indice]\n",
        "                    nome_completo = f'{cliente[indice][\"nome\"][0]} {cliente[indice][\"nome\"][1]}'\n",
        "                    print(\n",
        "                        f\"\"\"\n",
        "                    ********************* REGISTRO {indice} **************************\n",
        "\n",
        "                     Nome Completo :      {nome_completo}\n",
        "                     CPF:                 {cliente[indice][\"cpf\"]}\n",
        "                     E-mail:              {cliente[indice][\"email\"]}\n",
        "                     Veiculo Alugado:     {cliente[indice][\"veículo_locado\"]}\n",
        "\n",
        "                    *******************************************************************\n",
        "                     \"\"\")\n",
        "            else:\n",
        "                print(\"Nenhum cliente encontrado.\")\n",
        "        elif opcao == '3':\n",
        "            print(\"Voltando ao menu principal...\")\n",
        "            break\n",
        "        else:\n",
        "            print(\"Opção inválida.\")"
      ],
      "metadata": {
        "id": "-8xXQJb2psik"
      },
      "execution_count": null,
      "outputs": []
    },
    {
      "cell_type": "markdown",
      "source": [
        "17.Crie uma função que permita o acesso às funções de locação, sendo elas Alugar um Veículo; Devolver um Veículo; Voltar;."
      ],
      "metadata": {
        "id": "_tnSHJEBp5hI"
      }
    },
    {
      "cell_type": "code",
      "source": [
        "def locacao():\n",
        "    while True:\n",
        "        print('******* Menu de principal ******\\\n",
        "              \\n 1:  Alugar um Veículo\\\n",
        "              \\n 2: Devolver um Veículo\\\n",
        "              \\n 3: Voltar\\\n",
        "              \\n *****************************')\n",
        "\n",
        "        opcao = input(\"Escolha uma opção: \")\n",
        "\n",
        "        if opcao < 1 and opcao > 3:\n",
        "            print(\"Resposta inválida. Por favor, escolha os números do menu.\")\n",
        "            return\n",
        "\n",
        "        if opcao == 1:\n",
        "            realizar_aluguel(banco_de_dados_veiculos, banco_de_dados_clientes)\n",
        "        elif opcao == 2:\n",
        "            devolucao_de_veiculos(banco_de_dados_veiculos, banco_de_dados_clientes)\n",
        "        elif opcao == 3:\n",
        "            break"
      ],
      "metadata": {
        "id": "9DaOOwKdp78m"
      },
      "execution_count": null,
      "outputs": []
    },
    {
      "cell_type": "markdown",
      "source": [
        "18.Crie as variáveis que serão utilizada para o armazenamento dos bancos de dados utilizados no sistema"
      ],
      "metadata": {
        "id": "yXQpzT0htHVl"
      }
    },
    {
      "cell_type": "markdown",
      "source": [
        "Obs: já fiz isso no início do AT"
      ],
      "metadata": {
        "id": "tgGO7D3KtJzz"
      }
    }
  ]
}